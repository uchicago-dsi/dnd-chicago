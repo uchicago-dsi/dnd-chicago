{
 "cells": [
  {
   "cell_type": "code",
   "execution_count": 1,
   "metadata": {},
   "outputs": [],
   "source": [
    "from gerrychain import Graph\n",
    "import jsonlines as jl\n",
    "import votekit.elections as elec\n",
    "from votekit.elections import STV\n",
    "from votekit import PreferenceProfile\n",
    "import votekit.ballot_generator as bg\n",
    "from pathlib import Path\n",
    "import json\n",
    "\n",
    "DATA_DIR = Path(\"../data\")\n",
    "PLAN_DIR = Path(DATA_DIR / \"plan_demography\")\n",
    "CONFIG_DIR = Path(DATA_DIR / \"plan_configs\" / 'set1')\n"
   ]
  },
  {
   "cell_type": "code",
   "execution_count": 6,
   "metadata": {},
   "outputs": [],
   "source": [
    "# ca10-5304_0.0_5_0.9-0.5.json\n",
    "plan = \"ca10-5304\"\n",
    "candidate_count = 5\n",
    "cohesion = 0.9\n",
    "alphas = 0.5"
   ]
  },
  {
   "cell_type": "code",
   "execution_count": 7,
   "metadata": {},
   "outputs": [
    {
     "data": {
      "text/plain": [
       "[PosixPath('../data/plan_configs/set1/ca10-5304_4.0_5_0.9_0.5.json'),\n",
       " PosixPath('../data/plan_configs/set1/ca10-5304_5.0_5_0.9_0.5.json'),\n",
       " PosixPath('../data/plan_configs/set1/ca10-5304_1.0_5_0.9_0.5.json'),\n",
       " PosixPath('../data/plan_configs/set1/ca10-5304_6.0_5_0.9_0.5.json'),\n",
       " PosixPath('../data/plan_configs/set1/ca10-5304_9.0_5_0.9_0.5.json'),\n",
       " PosixPath('../data/plan_configs/set1/ca10-5304_2.0_5_0.9_0.5.json'),\n",
       " PosixPath('../data/plan_configs/set1/ca10-5304_7.0_5_0.9_0.5.json'),\n",
       " PosixPath('../data/plan_configs/set1/ca10-5304_8.0_5_0.9_0.5.json'),\n",
       " PosixPath('../data/plan_configs/set1/ca10-5304_3.0_5_0.9_0.5.json')]"
      ]
     },
     "execution_count": 7,
     "metadata": {},
     "output_type": "execute_result"
    }
   ],
   "source": [
    "files = [x for x in CONFIG_DIR.glob(f\"{plan}_*_{candidate_count}_{cohesion}_{alphas}.json\")]\n",
    "files"
   ]
  },
  {
   "cell_type": "code",
   "execution_count": 8,
   "metadata": {},
   "outputs": [
    {
     "data": {
      "text/plain": [
       "{'NH_WHITE': 0.43816053177453884,\n",
       " 'NH_BLACK': 0.3447125255979611,\n",
       " 'NH_ASIAN': 0.13987155166138365,\n",
       " 'NH_OTHER': 0.0234647188063825,\n",
       " 'HISP': 0.05379067215973394}"
      ]
     },
     "execution_count": 8,
     "metadata": {},
     "output_type": "execute_result"
    }
   ],
   "source": [
    "with open(files[0], \"r\") as f:\n",
    "  config = json.load(f)\n",
    "\n",
    "config[\"bloc_voter_prop\"]"
   ]
  },
  {
   "cell_type": "code",
   "execution_count": 9,
   "metadata": {},
   "outputs": [
    {
     "name": "stdout",
     "output_type": "stream",
     "text": [
      "Initial tiebreak was unsuccessful, performing random tiebreak\n"
     ]
    },
    {
     "data": {
      "text/plain": [
       "(frozenset({'NH_WHITE_2'}),\n",
       " frozenset({'NH_BLACK_2'}),\n",
       " frozenset({'NH_BLACK_3'}),\n",
       " frozenset({'NH_WHITE_3'}),\n",
       " frozenset({'NH_ASIAN_4'}))"
      ]
     },
     "execution_count": 9,
     "metadata": {},
     "output_type": "execute_result"
    }
   ],
   "source": [
    "profile = bg.slate_PlackettLuce.from_params(**config).generate_profile(\n",
    "    number_of_ballots=1000\n",
    ")\n",
    "e = STV(profile, m=5)\n",
    "e.get_elected()"
   ]
  },
  {
   "cell_type": "code",
   "execution_count": null,
   "metadata": {},
   "outputs": [],
   "source": []
  }
 ],
 "metadata": {
  "kernelspec": {
   "display_name": "venv",
   "language": "python",
   "name": "python3"
  },
  "language_info": {
   "codemirror_mode": {
    "name": "ipython",
    "version": 3
   },
   "file_extension": ".py",
   "mimetype": "text/x-python",
   "name": "python",
   "nbconvert_exporter": "python",
   "pygments_lexer": "ipython3",
   "version": "3.13.5"
  }
 },
 "nbformat": 4,
 "nbformat_minor": 2
}
