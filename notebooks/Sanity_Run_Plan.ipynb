{
 "cells": [
  {
   "cell_type": "code",
   "execution_count": 38,
   "metadata": {},
   "outputs": [],
   "source": [
    "from gerrychain import Graph\n",
    "import jsonlines as jl\n",
    "import votekit.elections as elec\n",
    "from votekit.elections import STV\n",
    "from votekit import PreferenceProfile\n",
    "import votekit.ballot_generator as bg\n",
    "from pathlib import Path\n",
    "import json\n",
    "\n",
    "DATA_DIR = Path(\"../data\")\n",
    "PLAN_DIR = Path(DATA_DIR / \"plan_demography\")\n",
    "CONFIG_DIR = Path(DATA_DIR / \"plan_configs\")\n"
   ]
  },
  {
   "cell_type": "code",
   "execution_count": 48,
   "metadata": {},
   "outputs": [],
   "source": [
    "plan = \"ca10-937\"\n",
    "candidate_count = 5\n",
    "cohesion = \"-\".join([str(x) for x in [0.4,  0.1,  0.2,  0.2, 0.1]])\n",
    "alphas = \"-\".join([str(x) for x in [0.1, 0.1, 0.1, 0.1, 0.1]])"
   ]
  },
  {
   "cell_type": "code",
   "execution_count": 49,
   "metadata": {},
   "outputs": [
    {
     "data": {
      "text/plain": [
       "[PosixPath('../data/plan_configs/ca10-937_3.0_5_0.4-0.1-0.2-0.2-0.1_0.1-0.1-0.1-0.1-0.1.json'),\n",
       " PosixPath('../data/plan_configs/ca10-937_1.0_5_0.4-0.1-0.2-0.2-0.1_0.1-0.1-0.1-0.1-0.1.json'),\n",
       " PosixPath('../data/plan_configs/ca10-937_7.0_5_0.4-0.1-0.2-0.2-0.1_0.1-0.1-0.1-0.1-0.1.json'),\n",
       " PosixPath('../data/plan_configs/ca10-937_5.0_5_0.4-0.1-0.2-0.2-0.1_0.1-0.1-0.1-0.1-0.1.json'),\n",
       " PosixPath('../data/plan_configs/ca10-937_8.0_5_0.4-0.1-0.2-0.2-0.1_0.1-0.1-0.1-0.1-0.1.json'),\n",
       " PosixPath('../data/plan_configs/ca10-937_2.0_5_0.4-0.1-0.2-0.2-0.1_0.1-0.1-0.1-0.1-0.1.json'),\n",
       " PosixPath('../data/plan_configs/ca10-937_0.0_5_0.4-0.1-0.2-0.2-0.1_0.1-0.1-0.1-0.1-0.1.json'),\n",
       " PosixPath('../data/plan_configs/ca10-937_6.0_5_0.4-0.1-0.2-0.2-0.1_0.1-0.1-0.1-0.1-0.1.json'),\n",
       " PosixPath('../data/plan_configs/ca10-937_4.0_5_0.4-0.1-0.2-0.2-0.1_0.1-0.1-0.1-0.1-0.1.json'),\n",
       " PosixPath('../data/plan_configs/ca10-937_9.0_5_0.4-0.1-0.2-0.2-0.1_0.1-0.1-0.1-0.1-0.1.json')]"
      ]
     },
     "execution_count": 49,
     "metadata": {},
     "output_type": "execute_result"
    }
   ],
   "source": [
    "files = [x for x in CONFIG_DIR.glob(f\"{plan}_*_{candidate_count}_{cohesion}_{alphas}.json\")]\n",
    "files"
   ]
  },
  {
   "cell_type": "code",
   "execution_count": 50,
   "metadata": {},
   "outputs": [
    {
     "data": {
      "text/plain": [
       "{'NH_WHITE': 0.1700706963855057,\n",
       " 'NH_BLACK': 0.5873840142361706,\n",
       " 'NH_ASIAN': 0.011314508219922576,\n",
       " 'NH_OTHER': 0.01090677215081828,\n",
       " 'HISP': 0.22032400900758295}"
      ]
     },
     "execution_count": 50,
     "metadata": {},
     "output_type": "execute_result"
    }
   ],
   "source": [
    "with open(files[0], \"r\") as f:\n",
    "  config = json.load(f)\n",
    "\n",
    "config[\"bloc_voter_prop\"]"
   ]
  },
  {
   "cell_type": "code",
   "execution_count": 54,
   "metadata": {},
   "outputs": [
    {
     "data": {
      "text/plain": [
       "(frozenset({'NH_WHITE_0'}),\n",
       " frozenset({'NH_OTHER_2'}),\n",
       " frozenset({'NH_WHITE_3'}),\n",
       " frozenset({'NH_ASIAN_0'}),\n",
       " frozenset({'NH_OTHER_4'}))"
      ]
     },
     "execution_count": 54,
     "metadata": {},
     "output_type": "execute_result"
    }
   ],
   "source": [
    "profile = bg.slate_PlackettLuce.from_params(**config).generate_profile(\n",
    "    number_of_ballots=1000\n",
    ")\n",
    "e = STV(profile, m=5)\n",
    "e.get_elected()"
   ]
  },
  {
   "cell_type": "code",
   "execution_count": null,
   "metadata": {},
   "outputs": [],
   "source": []
  }
 ],
 "metadata": {
  "kernelspec": {
   "display_name": "venv",
   "language": "python",
   "name": "python3"
  },
  "language_info": {
   "codemirror_mode": {
    "name": "ipython",
    "version": 3
   },
   "file_extension": ".py",
   "mimetype": "text/x-python",
   "name": "python",
   "nbconvert_exporter": "python",
   "pygments_lexer": "ipython3",
   "version": "3.13.5"
  }
 },
 "nbformat": 4,
 "nbformat_minor": 2
}
