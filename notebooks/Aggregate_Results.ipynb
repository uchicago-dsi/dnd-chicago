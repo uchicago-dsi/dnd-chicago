{
 "cells": [
  {
   "cell_type": "code",
   "execution_count": 29,
   "metadata": {},
   "outputs": [],
   "source": [
    "import pandas as pd\n",
    "import json\n",
    "from pathlib import Path\n",
    "\n",
    "RACES = [\n",
    "  \"NH_BLACK\",\n",
    "  \"NH_WHITE\",\n",
    "  \"HISP\",\n",
    "  \"NH_ASIAN\",\n",
    "  \"NH_OTHER\",\n",
    "]"
   ]
  },
  {
   "cell_type": "code",
   "execution_count": 46,
   "metadata": {},
   "outputs": [],
   "source": [
    "\n",
    "def summarize_election(\n",
    "  election_path\n",
    "):\n",
    "  back_half = election_path.stem.split(\"samples_100\")[1].replace(\"current_wards\", \"current-wards\")\n",
    "  _, plan, district, __, cohesion, alpha = back_half.split(\"_\")\n",
    "  seat_count = election_path.stem.split(\"seats_\")[-1].split(\"_\")[0]\n",
    "  counts = {}\n",
    "  with open(election_path, \"r\") as f:\n",
    "    for line in f:\n",
    "      election = json.loads(line)\n",
    "      winners = election[\"winners\"]\n",
    "      for _winner in winners:\n",
    "        winner = \"_\".join(_winner.split(\"_\")[:-1])\n",
    "        if winner not in counts:\n",
    "          counts[winner] = 0\n",
    "        counts[winner] += 1\n",
    "  # divide each by number of runs\n",
    "  for winner in counts:\n",
    "    counts[winner] = counts[winner] / 100\n",
    "  for race in RACES:\n",
    "    if race not in counts:\n",
    "      counts[race] = 0\n",
    "  return {\n",
    "    \"plan\": plan,\n",
    "    \"district\": district,\n",
    "    \"seat_count\": seat_count,\n",
    "    \"cohesion\": cohesion,\n",
    "    \"alpha\": alpha,\n",
    "    **counts,\n",
    "  }\n"
   ]
  },
  {
   "cell_type": "code",
   "execution_count": 47,
   "metadata": {},
   "outputs": [],
   "source": [
    "DATA_DIR = Path(\"../data\")\n",
    "PLAN_DIR = DATA_DIR / \"plan_results\""
   ]
  },
  {
   "cell_type": "code",
   "execution_count": 58,
   "metadata": {},
   "outputs": [],
   "source": [
    "seats5_results = [*[\n",
    "  z for z in PLAN_DIR.glob(\"stv_slate_pl_voters_1000_seats_5_samples_100_*.jsonl\")\n",
    "],\n",
    "*[\n",
    "  z for z in Path(PLAN_DIR / 'set2').glob(\"stv_slate_pl_voters_1000_seats_5_samples_100_*.jsonl\")\n",
    "]]\n",
    "\n",
    "seats3_results = [*[\n",
    "  z for z in PLAN_DIR.glob(\"stv_slate_pl_voters_1000_seats_3_samples_100_*.jsonl\")\n",
    "],\n",
    "*[\n",
    "  z for z in Path(PLAN_DIR / 'set2').glob(\"stv_slate_pl_voters_1000_seats_3_samples_100_*.jsonl\")\n",
    "]]\n",
    "\n",
    "single_member_results = [\n",
    "  z for z in PLAN_DIR.glob(\"plurality_slate_pl_voters_1000_seats_1_samples_100_*.jsonl\")\n",
    "]"
   ]
  },
  {
   "cell_type": "code",
   "execution_count": 68,
   "metadata": {},
   "outputs": [
    {
     "data": {
      "text/html": [
       "<div>\n",
       "<style scoped>\n",
       "    .dataframe tbody tr th:only-of-type {\n",
       "        vertical-align: middle;\n",
       "    }\n",
       "\n",
       "    .dataframe tbody tr th {\n",
       "        vertical-align: top;\n",
       "    }\n",
       "\n",
       "    .dataframe thead th {\n",
       "        text-align: right;\n",
       "    }\n",
       "</style>\n",
       "<table border=\"1\" class=\"dataframe\">\n",
       "  <thead>\n",
       "    <tr style=\"text-align: right;\">\n",
       "      <th></th>\n",
       "      <th>plan</th>\n",
       "      <th>district</th>\n",
       "      <th>seat_count</th>\n",
       "      <th>cohesion</th>\n",
       "      <th>alpha</th>\n",
       "      <th>HISP</th>\n",
       "      <th>NH_WHITE</th>\n",
       "      <th>NH_BLACK</th>\n",
       "      <th>NH_ASIAN</th>\n",
       "      <th>NH_OTHER</th>\n",
       "    </tr>\n",
       "  </thead>\n",
       "  <tbody>\n",
       "    <tr>\n",
       "      <th>0</th>\n",
       "      <td>ca10-5848</td>\n",
       "      <td>7.0</td>\n",
       "      <td>3</td>\n",
       "      <td>0.6</td>\n",
       "      <td>2</td>\n",
       "      <td>0.99</td>\n",
       "      <td>2.00</td>\n",
       "      <td>0.00</td>\n",
       "      <td>0.00</td>\n",
       "      <td>0.0</td>\n",
       "    </tr>\n",
       "    <tr>\n",
       "      <th>1</th>\n",
       "      <td>ca10-937</td>\n",
       "      <td>4.0</td>\n",
       "      <td>3</td>\n",
       "      <td>0.9</td>\n",
       "      <td>1</td>\n",
       "      <td>0.85</td>\n",
       "      <td>2.01</td>\n",
       "      <td>0.01</td>\n",
       "      <td>0.12</td>\n",
       "      <td>0.0</td>\n",
       "    </tr>\n",
       "    <tr>\n",
       "      <th>2</th>\n",
       "      <td>prec10-4287</td>\n",
       "      <td>0.0</td>\n",
       "      <td>3</td>\n",
       "      <td>0.6</td>\n",
       "      <td>2</td>\n",
       "      <td>1.99</td>\n",
       "      <td>1.00</td>\n",
       "      <td>0.01</td>\n",
       "      <td>0.00</td>\n",
       "      <td>0.0</td>\n",
       "    </tr>\n",
       "    <tr>\n",
       "      <th>3</th>\n",
       "      <td>ca10-87557</td>\n",
       "      <td>5.0</td>\n",
       "      <td>3</td>\n",
       "      <td>0.9</td>\n",
       "      <td>0.5</td>\n",
       "      <td>0.00</td>\n",
       "      <td>0.00</td>\n",
       "      <td>3.00</td>\n",
       "      <td>0.00</td>\n",
       "      <td>0.0</td>\n",
       "    </tr>\n",
       "    <tr>\n",
       "      <th>4</th>\n",
       "      <td>prec10-55213</td>\n",
       "      <td>5.0</td>\n",
       "      <td>3</td>\n",
       "      <td>0.9</td>\n",
       "      <td>2</td>\n",
       "      <td>1.50</td>\n",
       "      <td>0.49</td>\n",
       "      <td>1.01</td>\n",
       "      <td>0.00</td>\n",
       "      <td>0.0</td>\n",
       "    </tr>\n",
       "  </tbody>\n",
       "</table>\n",
       "</div>"
      ],
      "text/plain": [
       "           plan district seat_count cohesion alpha  HISP  NH_WHITE  NH_BLACK  \\\n",
       "0     ca10-5848      7.0          3      0.6     2  0.99      2.00      0.00   \n",
       "1      ca10-937      4.0          3      0.9     1  0.85      2.01      0.01   \n",
       "2   prec10-4287      0.0          3      0.6     2  1.99      1.00      0.01   \n",
       "3    ca10-87557      5.0          3      0.9   0.5  0.00      0.00      3.00   \n",
       "4  prec10-55213      5.0          3      0.9     2  1.50      0.49      1.01   \n",
       "\n",
       "   NH_ASIAN  NH_OTHER  \n",
       "0      0.00       0.0  \n",
       "1      0.12       0.0  \n",
       "2      0.00       0.0  \n",
       "3      0.00       0.0  \n",
       "4      0.00       0.0  "
      ]
     },
     "execution_count": 68,
     "metadata": {},
     "output_type": "execute_result"
    }
   ],
   "source": [
    "output = []\n",
    "for result_file in seats3_results:\n",
    "  output.append(summarize_election(result_file))\n",
    "df = pd.DataFrame(output)\n",
    "df.head()"
   ]
  },
  {
   "cell_type": "code",
   "execution_count": 69,
   "metadata": {},
   "outputs": [],
   "source": [
    "TOTAL_COUNT = 30\n",
    "agg = df.drop(columns=[\"district\", \"seat_count\"])\\\n",
    "    .groupby([\n",
    "    \"plan\",\n",
    "    \"cohesion\",\n",
    "    \"alpha\",\n",
    "  ])\\\n",
    "  .sum().reset_index()\n",
    "agg['PCT_NH_BLACK'] = agg['NH_BLACK'] / TOTAL_COUNT\n",
    "agg['PCT_NH_WHITE'] = agg['NH_WHITE'] / TOTAL_COUNT\n",
    "agg['PCT_HISP'] = agg['HISP'] / TOTAL_COUNT\n",
    "agg['PCT_NH_ASIAN'] = agg['NH_ASIAN'] / TOTAL_COUNT\n",
    "agg['PCT_NH_OTHER'] = agg['NH_OTHER'] / TOTAL_COUNT"
   ]
  },
  {
   "cell_type": "code",
   "execution_count": 64,
   "metadata": {},
   "outputs": [
    {
     "data": {
      "text/plain": [
       "<Axes: >"
      ]
     },
     "execution_count": 64,
     "metadata": {},
     "output_type": "execute_result"
    },
    {
     "data": {
      "image/png": "[encoded data removed]",
      "text/plain": [
       "<Figure size 640x480 with 1 Axes>"
      ]
     },
     "metadata": {},
     "output_type": "display_data"
    }
   ],
   "source": [
    "agg.PCT_NH_BLACK.hist(range=(0, 1), bins=100)"
   ]
  },
  {
   "cell_type": "code",
   "execution_count": 65,
   "metadata": {},
   "outputs": [
    {
     "data": {
      "text/plain": [
       "<Axes: >"
      ]
     },
     "execution_count": 65,
     "metadata": {},
     "output_type": "execute_result"
    },
    {
     "data": {
      "image/png": "[encoded data removed]",
      "text/plain": [
       "<Figure size 640x480 with 1 Axes>"
      ]
     },
     "metadata": {},
     "output_type": "display_data"
    }
   ],
   "source": [
    "agg.PCT_NH_WHITE.hist(range=(0, 1), bins=100)"
   ]
  },
  {
   "cell_type": "code",
   "execution_count": 66,
   "metadata": {},
   "outputs": [
    {
     "data": {
      "text/plain": [
       "<Axes: >"
      ]
     },
     "execution_count": 66,
     "metadata": {},
     "output_type": "execute_result"
    },
    {
     "data": {
      "image/png": "[encoded data removed]",
      "text/plain": [
       "<Figure size 640x480 with 1 Axes>"
      ]
     },
     "metadata": {},
     "output_type": "display_data"
    }
   ],
   "source": [
    "agg.PCT_HISP.hist(range=(0, 1), bins=100)"
   ]
  },
  {
   "cell_type": "code",
   "execution_count": 67,
   "metadata": {},
   "outputs": [
    {
     "name": "stdout",
     "output_type": "stream",
     "text": [
      "MAX HISP 0.33766666666666667\n",
      "MAX NH_BLACK 0.378\n",
      "MAX NH_WHITE 0.383\n",
      "MAX NH_ASIAN 0.03966666666666666\n",
      "MAX NH_OTHER 0.011000000000000001\n",
      "\n",
      "MIN HISP 0.2796666666666667\n",
      "MIN NH_BLACK 0.3\n",
      "MIN NH_WHITE 0.304\n",
      "MIN NH_ASIAN 0.0\n",
      "MIN NH_OTHER 0.0\n",
      "\n",
      "MEAN HISP 0.3103111111111111\n",
      "MEAN NH_BLACK 0.33116666666666666\n",
      "MEAN NH_WHITE 0.34260370370370374\n",
      "MEAN NH_ASIAN 0.013255555555555553\n"
     ]
    }
   ],
   "source": [
    "print(\"MAX HISP\", agg['PCT_HISP'].max())\n",
    "print(\"MAX NH_BLACK\", agg['PCT_NH_BLACK'].max())\n",
    "print(\"MAX NH_WHITE\", agg['PCT_NH_WHITE'].max())\n",
    "print(\"MAX NH_ASIAN\", agg['PCT_NH_ASIAN'].max())\n",
    "print(\"MAX NH_OTHER\", agg['PCT_NH_OTHER'].max())\n",
    "print(\"\")\n",
    "print(\"MIN HISP\", agg['PCT_HISP'].min())\n",
    "print(\"MIN NH_BLACK\", agg['PCT_NH_BLACK'].min())\n",
    "print(\"MIN NH_WHITE\", agg['PCT_NH_WHITE'].min())\n",
    "print(\"MIN NH_ASIAN\", agg['PCT_NH_ASIAN'].min())\n",
    "print(\"MIN NH_OTHER\", agg['PCT_NH_OTHER'].min())\n",
    "print(\"\")\n",
    "print(\"MEAN HISP\", agg['PCT_HISP'].mean())\n",
    "print(\"MEAN NH_BLACK\", agg['PCT_NH_BLACK'].mean())\n",
    "print(\"MEAN NH_WHITE\", agg['PCT_NH_WHITE'].mean())\n",
    "print(\"MEAN NH_ASIAN\", agg['PCT_NH_ASIAN'].mean())"
   ]
  },
  {
   "cell_type": "code",
   "execution_count": null,
   "metadata": {},
   "outputs": [],
   "source": []
  }
 ],
 "metadata": {
  "kernelspec": {
   "display_name": "venv",
   "language": "python",
   "name": "python3"
  },
  "language_info": {
   "codemirror_mode": {
    "name": "ipython",
    "version": 3
   },
   "file_extension": ".py",
   "mimetype": "text/x-python",
   "name": "python",
   "nbconvert_exporter": "python",
   "pygments_lexer": "ipython3",
   "version": "3.13.5"
  }
 },
 "nbformat": 4,
 "nbformat_minor": 2
}
