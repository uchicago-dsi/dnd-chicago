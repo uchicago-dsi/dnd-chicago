{
 "cells": [
  {
   "cell_type": "markdown",
   "metadata": {},
   "source": [
    "# Summarize Demographics By Plan"
   ]
  },
  {
   "cell_type": "markdown",
   "metadata": {},
   "source": []
  },
  {
   "cell_type": "code",
   "execution_count": 2,
   "metadata": {},
   "outputs": [],
   "source": [
    "from pathlib import Path\n",
    "import geopandas as gpd\n",
    "import pandas as pd\n",
    "# remove col limit\n",
    "pd.set_option('display.max_columns', None)\n",
    "\n",
    "DATA_DIR = Path(\"../data\")"
   ]
  },
  {
   "cell_type": "code",
   "execution_count": 3,
   "metadata": {},
   "outputs": [],
   "source": [
    "def get_demography(df, id_col=\"ID\"):\n",
    "  df = df[[\n",
    "    id_col,\n",
    "    'HISP', \n",
    "    'NH_WHITE', \n",
    "    'NH_BLACK', \n",
    "    'NH_ASIAN', \n",
    "    'NH_AMIN', \n",
    "    'NH_NHPI', \n",
    "    'NH_OTHER',\n",
    "    'NH_2MORE'\n",
    "  ]]\n",
    "  df.loc[:, 'NH_OTHER'] = df[[\n",
    "    'NH_AMIN', \n",
    "    'NH_NHPI', \n",
    "    'NH_OTHER',\n",
    "    'NH_2MORE'\n",
    "  ]].sum(axis=1)\n",
    "  df = df.drop(columns=['NH_AMIN', 'NH_NHPI',  'NH_2MORE'])\n",
    "  return df\n",
    "\n",
    "precincts12 = gpd.read_file(DATA_DIR / \"chicago_precincts_2012\" / \"chicago_precincts_2012.shp\")\n",
    "precincts12['ID'] = \"C\" + precincts12['WARD_1'].astype(str).str.zfill(2) + precincts12['PRECINCT_1'].astype(str).str.zfill(3)\n",
    "\n",
    "ca = gpd.read_file(DATA_DIR / \"chicago_community_areas\" / \"chicago_community_areas.shp\").rename(columns={'area_numbe': 'ID'})\n",
    "\n",
    "wards = gpd.read_file(DATA_DIR / \"chicago_wards\" / \"chicago_wards.shp\").rename(columns={'ward': 'ID'})\n",
    "\n",
    "demography = {\n",
    "  \"ca\": get_demography(ca),\n",
    "  \"precinct\": get_demography(precincts12)\n",
    "}\n"
   ]
  },
  {
   "cell_type": "code",
   "execution_count": 8,
   "metadata": {},
   "outputs": [],
   "source": [
    "from pathlib import Path\n",
    "import json\n",
    "PLAN_DIR = Path(\"../plans_from_figures\")\n",
    "plans_path = PLAN_DIR.glob(\"*.json\")\n",
    "\n",
    "\n",
    "def get_plan_type(stem):\n",
    "  if stem.startswith(\"ca\"):\n",
    "    return \"ca\"\n",
    "  elif stem.startswith(\"prec\"):\n",
    "    return \"precinct\"\n",
    "  else:\n",
    "    return \"precinct\"\n",
    "\n",
    "\n",
    "def summarize_plan_demographics(plan_object, plan_type):\n",
    "  demog_df = demography[plan_type]\n",
    "  # change object to DF\n",
    "  plan_df = pd.DataFrame({\n",
    "  \"ID\": plan_object['assignment'].keys(),\n",
    "  \"DISTRICT\": plan_object['assignment'].values()\n",
    "  })\n",
    "  return demog_df.merge(plan_df, on=\"ID\", how=\"left\") \\\n",
    "    .groupby(\"DISTRICT\") \\\n",
    "    .agg({\n",
    "      \"HISP\": \"sum\",\n",
    "      \"NH_WHITE\": \"sum\",\n",
    "      \"NH_BLACK\": \"sum\",\n",
    "      \"NH_ASIAN\": \"sum\",\n",
    "    }).reset_index()\n",
    "\n",
    "\n",
    "for plan in plans_path:\n",
    "  with open(plan, \"r\") as f:\n",
    "    data = json.load(f)\n",
    "    plan_type = get_plan_type(plan.stem)\n",
    "    district_demog = summarize_plan_demographics(data, plan_type)\n",
    "    district_demog.to_csv(DATA_DIR / \"plan_demography\" / f\"{plan.stem}.csv\", index=False)"
   ]
  },
  {
   "cell_type": "code",
   "execution_count": null,
   "metadata": {},
   "outputs": [],
   "source": []
  }
 ],
 "metadata": {
  "kernelspec": {
   "display_name": "venv",
   "language": "python",
   "name": "python3"
  },
  "language_info": {
   "codemirror_mode": {
    "name": "ipython",
    "version": 3
   },
   "file_extension": ".py",
   "mimetype": "text/x-python",
   "name": "python",
   "nbconvert_exporter": "python",
   "pygments_lexer": "ipython3",
   "version": "3.13.5"
  }
 },
 "nbformat": 4,
 "nbformat_minor": 2
}
