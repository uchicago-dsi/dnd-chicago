{
 "cells": [
  {
   "cell_type": "code",
   "execution_count": 7,
   "metadata": {},
   "outputs": [],
   "source": [
    "from pathlib import Path\n",
    "import pandas as pd\n",
    "import json\n",
    "DATA_DIR = Path(\"../data\")\n",
    "PLAN_DIR = Path(DATA_DIR / \"plan_demography\")\n"
   ]
  },
  {
   "cell_type": "code",
   "execution_count": 8,
   "metadata": {},
   "outputs": [],
   "source": [
    "plan_demographies = [\n",
    "  *[z for z in PLAN_DIR.glob(\"ca10*.csv\")],\n",
    "  # *[z for z in PLAN_DIR.glob(\"prec10*.csv\")],\n",
    "]"
   ]
  },
  {
   "cell_type": "code",
   "execution_count": 9,
   "metadata": {},
   "outputs": [],
   "source": [
    "def generate_configuration(\n",
    "  district_row,  \n",
    "  candidate_count,\n",
    "  cohesion_dict,\n",
    "  alphas_dict,\n",
    "):\n",
    "  total_voters = district_row['HISP'] + district_row['NH_WHITE'] + district_row['NH_BLACK'] + district_row['NH_ASIAN'] + district_row['NH_OTHER']\n",
    "  bloc_names = [\"NH_WHITE\", \"NH_BLACK\", \"NH_ASIAN\", \"NH_OTHER\", \"HISP\"]\n",
    "  \n",
    "  bloc_voter_prop = {\n",
    "    name: district_row[name] / total_voters for name in bloc_names\n",
    "  }\n",
    "  cohesion_parameters = {\n",
    "    name: cohesion_dict[name] for name in bloc_names\n",
    "  }\n",
    "  alphas = {\n",
    "    name: alphas_dict[name] for name in bloc_names\n",
    "  }\n",
    "  slate_to_candidates = {\n",
    "    name: [f\"{name}_{i}\" for i in range(candidate_count)] for name in bloc_names\n",
    "  }\n",
    "  return dict(\n",
    "    bloc_voter_prop=bloc_voter_prop,\n",
    "    cohesion_parameters=cohesion_parameters,\n",
    "    alphas=alphas,\n",
    "    slate_to_candidates=slate_to_candidates\n",
    "  )\n",
    "  "
   ]
  },
  {
   "cell_type": "code",
   "execution_count": 10,
   "metadata": {},
   "outputs": [],
   "source": [
    "cohesion_matrix = [\n",
    "  .9,\n",
    "  .6\n",
    "]\n",
    "\n",
    "alphas_matrix = [\n",
    "  .5,\n",
    "  1,\n",
    "  2\n",
    "]\n",
    "\n",
    "RACES = [\n",
    "  \"NH_WHITE\",\n",
    "  \"NH_BLACK\",\n",
    "  \"NH_ASIAN\",\n",
    "  \"NH_OTHER\",\n",
    "  \"HISP\" \n",
    "]\n",
    "def generate_cohesion_subdict(bloc, bloc_value):\n",
    "  return {\n",
    "    \"NH_WHITE\": bloc_value if bloc == 'NH_WHITE' else (1-bloc_value)/4,\n",
    "    \"NH_BLACK\":bloc_value if bloc == 'NH_BLACK' else (1-bloc_value)/4, \n",
    "    \"NH_ASIAN\":bloc_value if bloc == 'NH_ASIAN' else (1-bloc_value)/4, \n",
    "    \"NH_OTHER\":bloc_value if bloc == 'NH_OTHER' else (1-bloc_value)/4, \n",
    "    \"HISP\":bloc_value if bloc == 'HISP' else (1-bloc_value)/4,  \n",
    "  }\n",
    "\n",
    "def generate_cohesion(cohesion):\n",
    "  output = {}\n",
    "  for race in RACES:\n",
    "    output[race] = generate_cohesion_subdict(race, cohesion)\n",
    "  return output\n",
    "  \n",
    "def generate_alphas_subdict(alpha):\n",
    "  return {\n",
    "    \"NH_WHITE\": alpha,\n",
    "    \"NH_BLACK\": alpha,\n",
    "    \"NH_ASIAN\": alpha,\n",
    "    \"NH_OTHER\": alpha,\n",
    "    \"HISP\": alpha,\n",
    "  }\n",
    "def generate_alphas(alpha):\n",
    "  output = {}\n",
    "  for race in RACES:\n",
    "    output[race] = generate_alphas_subdict(alpha)\n",
    "  return output\n"
   ]
  },
  {
   "cell_type": "code",
   "execution_count": 12,
   "metadata": {},
   "outputs": [
    {
     "name": "stdout",
     "output_type": "stream",
     "text": [
      "Running...\n",
      "../data/plan_demography/ca10-5848.csv\n",
      "../data/plan_demography/ca10-1042.csv\n",
      "../data/plan_demography/ca10-937.csv\n",
      "../data/plan_demography/ca10-87557.csv\n",
      "../data/plan_demography/ca10-5304.csv\n",
      "../data/plan_demography/ca10-25218.csv\n"
     ]
    }
   ],
   "source": [
    "NUM_RACES = 5\n",
    "set_idx = 0\n",
    "print(\"Running...\")\n",
    "for candidate_count in [5]:\n",
    "  for csv_path in plan_demographies:\n",
    "    print(csv_path)\n",
    "    df = pd.read_csv(csv_path)\n",
    "    PLAN = csv_path.stem\n",
    "    for cohesion in cohesion_matrix:\n",
    "      cohesion_dict = generate_cohesion(cohesion)\n",
    "      for alpha in alphas_matrix:\n",
    "        alphas_dict = generate_alphas(alpha)\n",
    "\n",
    "        for idx, row in df.iterrows():\n",
    "          DISTRICT = str(row['DISTRICT'])\n",
    "          config = generate_configuration(row, candidate_count, cohesion_dict, alphas_dict)\n",
    "          config_name = f\"{PLAN}_{DISTRICT}_{candidate_count}_{cohesion}_{alpha}\"    \n",
    "          if set_idx > 240:\n",
    "            config_set = 'set1'\n",
    "          elif set_idx > 120:\n",
    "            config_set = 'set2'\n",
    "          else:\n",
    "            config_set = 'set3'\n",
    "\n",
    "          set_idx+=1;\n",
    "          with open(DATA_DIR / \"plan_configs\" / config_set / f\"{config_name}.json\", \"w\") as f:\n",
    "              json.dump(config, f)"
   ]
  }
 ],
 "metadata": {
  "kernelspec": {
   "display_name": "venv",
   "language": "python",
   "name": "python3"
  },
  "language_info": {
   "codemirror_mode": {
    "name": "ipython",
    "version": 3
   },
   "file_extension": ".py",
   "mimetype": "text/x-python",
   "name": "python",
   "nbconvert_exporter": "python",
   "pygments_lexer": "ipython3",
   "version": "3.13.5"
  }
 },
 "nbformat": 4,
 "nbformat_minor": 2
}
