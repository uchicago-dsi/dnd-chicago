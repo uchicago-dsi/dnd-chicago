{
 "cells": [
  {
   "cell_type": "code",
   "execution_count": 17,
   "metadata": {},
   "outputs": [],
   "source": [
    "from pathlib import Path\n",
    "import pandas as pd\n",
    "import json\n",
    "DATA_DIR = Path(\"../data\")\n",
    "PLAN_DIR = Path(DATA_DIR / \"plan_demography\")\n"
   ]
  },
  {
   "cell_type": "code",
   "execution_count": 65,
   "metadata": {},
   "outputs": [],
   "source": [
    "plan_demographies = [\n",
    "  *[z for z in PLAN_DIR.glob(\"ca10*.csv\")],\n",
    "  *[z for z in PLAN_DIR.glob(\"prec10*.csv\")],\n",
    "]"
   ]
  },
  {
   "cell_type": "code",
   "execution_count": 36,
   "metadata": {},
   "outputs": [],
   "source": [
    "def generate_configuration(\n",
    "  district_row,  \n",
    "  candidate_count,\n",
    "  cohesion_dict,\n",
    "  alphas_dict,\n",
    "):\n",
    "  total_voters = district_row['HISP'] + district_row['NH_WHITE'] + district_row['NH_BLACK'] + district_row['NH_ASIAN'] + district_row['NH_OTHER']\n",
    "  bloc_names = [\"NH_WHITE\", \"NH_BLACK\", \"NH_ASIAN\", \"NH_OTHER\", \"HISP\"]\n",
    "  \n",
    "  bloc_voter_prop = {\n",
    "    name: district_row[name] / total_voters for name in bloc_names\n",
    "  }\n",
    "  cohesion_parameters = {\n",
    "    name: cohesion_dict[name] for name in bloc_names\n",
    "  }\n",
    "  alphas = {\n",
    "    name: alphas_dict[name] for name in bloc_names\n",
    "  }\n",
    "  slate_to_candidates = {\n",
    "    name: [f\"{name}_{i}\" for i in range(candidate_count)] for name in bloc_names\n",
    "  }\n",
    "  return dict(\n",
    "    bloc_voter_prop=bloc_voter_prop,\n",
    "    cohesion_parameters=cohesion_parameters,\n",
    "    alphas=alphas,\n",
    "    slate_to_candidates=slate_to_candidates\n",
    "  )\n",
    "  "
   ]
  },
  {
   "cell_type": "code",
   "execution_count": 37,
   "metadata": {},
   "outputs": [],
   "source": [
    "cohesion_matrix = [\n",
    "  #  W      B     H    A    O\n",
    "  [0.8, 0.05, 0.05, 0.05, 0.05],\n",
    "  [0.7,  0.1,  0.1,  0.1, 0  ],\n",
    "  [0.6,  0.1,  0.1,  0.1, 0.1],\n",
    "  [0.5,  0.1,  0.1,  0.2, 0.1],\n",
    "  [0.4,  0.1,  0.2,  0.2, 0.1],\n",
    "]\n",
    "\n",
    "alphas_matrix = [\n",
    "  [1, 1, 1, 1, 1],\n",
    "  [10,10,10,10,10],\n",
    "  [0.5, 0.5, 0.5, 0.5, 0.5],\n",
    "  [0.1, 0.1, 0.1, 0.1, 0.1],\n",
    "]\n",
    "\n",
    "def cohesion_matrix_to_dict(cohesion_array):\n",
    "  return {\n",
    "    \"NH_WHITE\": cohesion_array[0],\n",
    "    \"NH_BLACK\": cohesion_array[1],\n",
    "    \"NH_ASIAN\": cohesion_array[2],\n",
    "    \"NH_OTHER\": cohesion_array[3],\n",
    "    \"HISP\": cohesion_array[4],\n",
    "  }\n",
    "\n",
    "def alphas_matrix_to_dict(alphas_array):\n",
    "  return {\n",
    "    \"NH_WHITE\": alphas_array[0],\n",
    "    \"NH_BLACK\": alphas_array[1],\n",
    "    \"NH_ASIAN\": alphas_array[2],\n",
    "    \"NH_OTHER\": alphas_array[3],\n",
    "    \"HISP\": alphas_array[4],\n",
    "  }\n",
    "  \n",
    "def generate_cohesion_parameters(cohesion_matrix):\n",
    "  return {\n",
    "    \"NH_WHITE\": cohesion_matrix_to_dict(cohesion_matrix[0]),\n",
    "    \"NH_BLACK\": cohesion_matrix_to_dict(cohesion_matrix[1]),\n",
    "    \"NH_ASIAN\": cohesion_matrix_to_dict(cohesion_matrix[2]),\n",
    "    \"NH_OTHER\": cohesion_matrix_to_dict(cohesion_matrix[3]),\n",
    "    \"HISP\": cohesion_matrix_to_dict(cohesion_matrix[4]),\n",
    "  }\n",
    "\n",
    "def generate_alphas_parameters(alphas_matrix):\n",
    "  return {\n",
    "    \"NH_WHITE\": alphas_matrix_to_dict(alphas_matrix[0]),\n",
    "    \"NH_BLACK\": alphas_matrix_to_dict(alphas_matrix[1]),\n",
    "    \"NH_ASIAN\": alphas_matrix_to_dict(alphas_matrix[2]),\n",
    "    \"NH_OTHER\": alphas_matrix_to_dict(alphas_matrix[3]),\n",
    "    \"HISP\": alphas_matrix_to_dict(alphas_matrix[4]),\n",
    "  }"
   ]
  },
  {
   "cell_type": "code",
   "execution_count": 38,
   "metadata": {},
   "outputs": [
    {
     "data": {
      "text/plain": [
       "{'NH_WHITE': {'NH_WHITE': 0.8,\n",
       "  'NH_BLACK': 0.05,\n",
       "  'NH_ASIAN': 0.05,\n",
       "  'NH_OTHER': 0.05,\n",
       "  'HISP': 0.05},\n",
       " 'NH_BLACK': {'NH_WHITE': 0.8,\n",
       "  'NH_BLACK': 0.05,\n",
       "  'NH_ASIAN': 0.05,\n",
       "  'NH_OTHER': 0.05,\n",
       "  'HISP': 0.05},\n",
       " 'NH_ASIAN': {'NH_WHITE': 0.8,\n",
       "  'NH_BLACK': 0.05,\n",
       "  'NH_ASIAN': 0.05,\n",
       "  'NH_OTHER': 0.05,\n",
       "  'HISP': 0.05},\n",
       " 'NH_OTHER': {'NH_WHITE': 0.8,\n",
       "  'NH_BLACK': 0.05,\n",
       "  'NH_ASIAN': 0.05,\n",
       "  'NH_OTHER': 0.05,\n",
       "  'HISP': 0.05},\n",
       " 'HISP': {'NH_WHITE': 0.8,\n",
       "  'NH_BLACK': 0.05,\n",
       "  'NH_ASIAN': 0.05,\n",
       "  'NH_OTHER': 0.05,\n",
       "  'HISP': 0.05}}"
      ]
     },
     "execution_count": 38,
     "metadata": {},
     "output_type": "execute_result"
    }
   ],
   "source": [
    "generate_cohesion_parameters([\n",
    "  cohesion_matrix[0],\n",
    "  cohesion_matrix[0],\n",
    "  cohesion_matrix[0],\n",
    "  cohesion_matrix[0],\n",
    "  cohesion_matrix[0],\n",
    "])"
   ]
  },
  {
   "cell_type": "code",
   "execution_count": 39,
   "metadata": {},
   "outputs": [
    {
     "data": {
      "text/plain": [
       "{'NH_WHITE': {'NH_WHITE': 0.8,\n",
       "  'NH_BLACK': 0.05,\n",
       "  'NH_ASIAN': 0.05,\n",
       "  'NH_OTHER': 0.05,\n",
       "  'HISP': 0.05},\n",
       " 'NH_BLACK': {'NH_WHITE': 0.8,\n",
       "  'NH_BLACK': 0.05,\n",
       "  'NH_ASIAN': 0.05,\n",
       "  'NH_OTHER': 0.05,\n",
       "  'HISP': 0.05},\n",
       " 'NH_ASIAN': {'NH_WHITE': 0.8,\n",
       "  'NH_BLACK': 0.05,\n",
       "  'NH_ASIAN': 0.05,\n",
       "  'NH_OTHER': 0.05,\n",
       "  'HISP': 0.05},\n",
       " 'NH_OTHER': {'NH_WHITE': 0.8,\n",
       "  'NH_BLACK': 0.05,\n",
       "  'NH_ASIAN': 0.05,\n",
       "  'NH_OTHER': 0.05,\n",
       "  'HISP': 0.05},\n",
       " 'HISP': {'NH_WHITE': 0.8,\n",
       "  'NH_BLACK': 0.05,\n",
       "  'NH_ASIAN': 0.05,\n",
       "  'NH_OTHER': 0.05,\n",
       "  'HISP': 0.05}}"
      ]
     },
     "execution_count": 39,
     "metadata": {},
     "output_type": "execute_result"
    }
   ],
   "source": [
    "generate_cohesion_parameters([\n",
    "  cohesion_matrix[0],\n",
    "  cohesion_matrix[0],\n",
    "  cohesion_matrix[0],\n",
    "  cohesion_matrix[0],\n",
    "  cohesion_matrix[0],\n",
    "])"
   ]
  },
  {
   "cell_type": "code",
   "execution_count": 40,
   "metadata": {},
   "outputs": [
    {
     "data": {
      "text/plain": [
       "{'NH_WHITE': {'NH_WHITE': 1,\n",
       "  'NH_BLACK': 1,\n",
       "  'NH_ASIAN': 1,\n",
       "  'NH_OTHER': 1,\n",
       "  'HISP': 1},\n",
       " 'NH_BLACK': {'NH_WHITE': 1,\n",
       "  'NH_BLACK': 1,\n",
       "  'NH_ASIAN': 1,\n",
       "  'NH_OTHER': 1,\n",
       "  'HISP': 1},\n",
       " 'NH_ASIAN': {'NH_WHITE': 1,\n",
       "  'NH_BLACK': 1,\n",
       "  'NH_ASIAN': 1,\n",
       "  'NH_OTHER': 1,\n",
       "  'HISP': 1},\n",
       " 'NH_OTHER': {'NH_WHITE': 1,\n",
       "  'NH_BLACK': 1,\n",
       "  'NH_ASIAN': 1,\n",
       "  'NH_OTHER': 1,\n",
       "  'HISP': 1},\n",
       " 'HISP': {'NH_WHITE': 1,\n",
       "  'NH_BLACK': 1,\n",
       "  'NH_ASIAN': 1,\n",
       "  'NH_OTHER': 1,\n",
       "  'HISP': 1}}"
      ]
     },
     "execution_count": 40,
     "metadata": {},
     "output_type": "execute_result"
    }
   ],
   "source": [
    "\n",
    "generate_alphas_parameters([\n",
    "  alphas_matrix[0],\n",
    "  alphas_matrix[0],   \n",
    "  alphas_matrix[0],   \n",
    "  alphas_matrix[0],   \n",
    "  alphas_matrix[0],   \n",
    "])"
   ]
  },
  {
   "cell_type": "code",
   "execution_count": 67,
   "metadata": {},
   "outputs": [
    {
     "name": "stdout",
     "output_type": "stream",
     "text": [
      "Running...\n",
      "../data/plan_demography/ca10-5848.csv\n",
      "../data/plan_demography/ca10-1042.csv\n",
      "../data/plan_demography/ca10-937.csv\n",
      "../data/plan_demography/ca10-87557.csv\n",
      "../data/plan_demography/ca10-5304.csv\n",
      "../data/plan_demography/ca10-25218.csv\n",
      "../data/plan_demography/prec10-8178.csv\n",
      "../data/plan_demography/prec10-55213.csv\n",
      "../data/plan_demography/prec10-86660.csv\n",
      "../data/plan_demography/prec10-4287.csv\n",
      "../data/plan_demography/prec10-55139.csv\n",
      "../data/plan_demography/prec10-205.csv\n",
      "../data/plan_demography/prec10-8698.csv\n",
      "../data/plan_demography/prec10-41323.csv\n",
      "../data/plan_demography/prec10-12816.csv\n",
      "../data/plan_demography/ca10-5848.csv\n",
      "../data/plan_demography/ca10-1042.csv\n",
      "../data/plan_demography/ca10-937.csv\n",
      "../data/plan_demography/ca10-87557.csv\n",
      "../data/plan_demography/ca10-5304.csv\n",
      "../data/plan_demography/ca10-25218.csv\n",
      "../data/plan_demography/prec10-8178.csv\n",
      "../data/plan_demography/prec10-55213.csv\n",
      "../data/plan_demography/prec10-86660.csv\n",
      "../data/plan_demography/prec10-4287.csv\n",
      "../data/plan_demography/prec10-55139.csv\n",
      "../data/plan_demography/prec10-205.csv\n",
      "../data/plan_demography/prec10-8698.csv\n",
      "../data/plan_demography/prec10-41323.csv\n",
      "../data/plan_demography/prec10-12816.csv\n"
     ]
    }
   ],
   "source": [
    "NUM_RACES = 5\n",
    "\n",
    "print(\"Running...\")\n",
    "for candidate_count in [3, 5]:\n",
    "  for csv_path in plan_demographies:\n",
    "    print(csv_path)\n",
    "    df = pd.read_csv(csv_path)\n",
    "    PLAN = csv_path.stem\n",
    "    for i in range(len(cohesion_matrix)):\n",
    "      cohesion_dict = cohesion_matrix_to_dict([cohesion_matrix[i] for x in range(0,NUM_RACES)])\n",
    "      for j in range(len(alphas_matrix)):\n",
    "        alphas_dict = alphas_matrix_to_dict([alphas_matrix[j] for x in range(0,NUM_RACES)])\n",
    "\n",
    "        for idx, row in df.iterrows():\n",
    "          DISTRICT = str(row['DISTRICT'])\n",
    "          config = generate_configuration(row, candidate_count, cohesion_dict, alphas_dict)\n",
    "          config_name = f\"{PLAN}_{DISTRICT}_{candidate_count}_{\"-\".join(str(x) for x in cohesion_matrix[i])}_{\"-\".join(str(x) for x in alphas_matrix[j])}\"    \n",
    "          with open(DATA_DIR / \"plan_configs\" / f\"{config_name}.json\", \"w\") as f:\n",
    "              json.dump(config, f)"
   ]
  },
  {
   "cell_type": "code",
   "execution_count": null,
   "metadata": {},
   "outputs": [],
   "source": []
  }
 ],
 "metadata": {
  "kernelspec": {
   "display_name": "venv",
   "language": "python",
   "name": "python3"
  },
  "language_info": {
   "codemirror_mode": {
    "name": "ipython",
    "version": 3
   },
   "file_extension": ".py",
   "mimetype": "text/x-python",
   "name": "python",
   "nbconvert_exporter": "python",
   "pygments_lexer": "ipython3",
   "version": "3.13.5"
  }
 },
 "nbformat": 4,
 "nbformat_minor": 2
}
